{
 "metadata": {
  "name": "",
  "signature": "sha256:a4d322767128a368b858d51d1e40af9a4e80515f9902c90bc7c59d326e5e605c"
 },
 "nbformat": 3,
 "nbformat_minor": 0,
 "worksheets": []
}