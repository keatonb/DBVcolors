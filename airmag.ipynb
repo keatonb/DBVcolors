{
 "metadata": {
  "name": "airmag"
 },
 "nbformat": 3,
 "nbformat_minor": 0,
 "worksheets": [
  {
   "cells": [
    {
     "cell_type": "code",
     "collapsed": false,
     "input": [
      "import numpy as np\n",
      "import matplotlib.pyplot as plt\n",
      "#import the necessary python packages"
     ],
     "language": "python",
     "metadata": {},
     "outputs": [],
     "prompt_number": 10
    },
    {
     "cell_type": "code",
     "collapsed": false,
     "input": [
      "with open(\"phot_out\", \"r\") as data:\n",
      "    alls = []\n",
      "    for line in data:\n",
      "        col = line.split()\n",
      "        alls.append(col)\n",
      "#Reads each line from the data into a list called 'alls'"
     ],
     "language": "python",
     "metadata": {},
     "outputs": [],
     "prompt_number": 11
    },
    {
     "cell_type": "code",
     "collapsed": false,
     "input": [
      "# Create a list of the magnitudes of the star\n",
      "\n",
      "mags = alls[79::15] # Replace the last number with the number of stars (target + comparisons) * 5\n",
      "# Creates a list of every line that contains the magnitude of the star\n",
      "\n",
      "mag = []\n",
      "for item in mags:\n",
      "    mag.append(item[4])\n",
      "# Adds the 5th number on the line (the magnitude) to the list 'mag', creating a list of magnitudes"
     ],
     "language": "python",
     "metadata": {},
     "outputs": [],
     "prompt_number": 12
    },
    {
     "cell_type": "code",
     "collapsed": false,
     "input": [
      "# Create a list of the airmasses of the star throughout the night\n",
      "\n",
      "airs = alls[78::15] # Replace the last number with the number of stars (target + comparisons) * 5\n",
      "# Creates a list of every line that contains the airmass of the star\n",
      "\n",
      "air = []\n",
      "for item in airs:\n",
      "    air.append(item[1])\n",
      "#Adds the 2nd number on the line (the airmass) to the list 'air', creating a list of airmasses"
     ],
     "language": "python",
     "metadata": {},
     "outputs": [],
     "prompt_number": 13
    },
    {
     "cell_type": "code",
     "collapsed": false,
     "input": [
      "# Create a list of the magnitude errors of the star\n",
      "\n",
      "errs = alls[79::15] # Replace the last number with the number of stars (target + comparisons) * 5\n",
      "# Creates a list of every line that contains the magnitude's error of the star\n",
      "\n",
      "err = []\n",
      "for item in errs:\n",
      "    err.append(item[5])\n",
      "# Adds the 6th number on the line (the error) to the list 'err', creating a list of magnitude errors"
     ],
     "language": "python",
     "metadata": {},
     "outputs": [],
     "prompt_number": 14
    },
    {
     "cell_type": "code",
     "collapsed": false,
     "input": [
      "am = dict(zip(air, mag))\n",
      "ae = dict(zip(air, err))\n",
      "ma = dict(zip(mag, air))\n",
      "me = dict(zip(mag, err))\n",
      "em = dict(zip(err, mag))\n",
      "ea = dict(zip(err, air))\n",
      "\n",
      "x = []\n",
      "y = []\n",
      "q = []\n",
      "for item in air:\n",
      "    if am[item] != 'INDEF' and ae[item] != 'INDEF' and item != 'INDEF':\n",
      "        x.append(item)\n",
      "for item in mag:\n",
      "    if item != 'INDEF' and ma[item] != 'INDEF' and me[item] != 'INDEF':\n",
      "        y.append(item)\n",
      "for item in err:\n",
      "    if em[item] != 'INDEF' and item != 'INDEF' and ea[item] != 'INDEF':\n",
      "        q.append(item)\n",
      "        \n",
      "# Creates 3 separate lists that omit any measurements that were listed as 'INDEF'\n",
      "# x is the list of airmasses\n",
      "# y is the list of magnitudes\n",
      "# q is the list of magnitude errors"
     ],
     "language": "python",
     "metadata": {},
     "outputs": [],
     "prompt_number": 15
    },
    {
     "cell_type": "code",
     "collapsed": false,
     "input": [
      "x = [float(item) for item in x]\n",
      "y = [float(item) for item in y]\n",
      "q = [float(item) for item in q]\n",
      "\n",
      "# Turns each element in the list from a string to a float"
     ],
     "language": "python",
     "metadata": {},
     "outputs": [],
     "prompt_number": 16
    },
    {
     "cell_type": "code",
     "collapsed": false,
     "input": [
      "p = np.polyfit(x, y, 1)\n",
      "print p\n",
      "\n",
      "# Creates a line of best fit to the data and prints the line parameters.\n",
      "# The first number is the slope of the line.\n",
      "# The second number is the instrumental magnitude of the star extrapolated to zero airmass."
     ],
     "language": "python",
     "metadata": {},
     "outputs": [
      {
       "output_type": "stream",
       "stream": "stdout",
       "text": [
        "[ -1.68058033  16.29669537]\n"
       ]
      }
     ],
     "prompt_number": 17
    },
    {
     "cell_type": "code",
     "collapsed": false,
     "input": [
      "# Plot the graph of Magnitude vs Airmass and the line of best fit\n",
      "\n",
      "plt.title('Magnitude vs Airmass', fontsize=22)\n",
      "plt.xlabel('Airmass', fontsize=17)\n",
      "plt.ylabel('Instrumental Magnitude', fontsize=17)\n",
      "plt.errorbar(x, y, yerr=q, fmt='bo') # Plot the data and the error bars\n",
      "plt.plot(x,np.polyval(p,x),'r-')\n",
      "plt.show()\n",
      "plt.savefig('magvair.png')"
     ],
     "language": "python",
     "metadata": {},
     "outputs": [],
     "prompt_number": 18
    },
    {
     "cell_type": "code",
     "collapsed": false,
     "input": [],
     "language": "python",
     "metadata": {},
     "outputs": [],
     "prompt_number": 18
    },
    {
     "cell_type": "code",
     "collapsed": false,
     "input": [],
     "language": "python",
     "metadata": {},
     "outputs": [],
     "prompt_number": 18
    }
   ],
   "metadata": {}
  }
 ]
}